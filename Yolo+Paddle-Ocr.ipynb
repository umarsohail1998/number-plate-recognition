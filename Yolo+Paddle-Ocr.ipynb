{
 "cells": [
  {
   "cell_type": "code",
   "execution_count": null,
   "metadata": {},
   "outputs": [],
   "source": [
    "# Install the required library (uncomment if not installed)\n",
    "# !pip install ultralytics\n",
    "\n",
    "# Download and unzip the dataset (uncomment if needed)\n",
    "# !unzip numberplatedataset.zip\n",
    "# !rm numberplatedataset.zip\n",
    "\n",
    "from ultralytics import YOLO\n",
    "from google.colab.patches import cv2_imshow\n",
    "\n",
    "# Step 1: Load the Model\n",
    "# If you are starting training from scratch, load a pretrained YOLO model\n",
    "# model = YOLO(\"yolov8n.pt\")  # Uncomment to load a pretrained model\n",
    "\n",
    "# Train the model from scratch (if starting fresh)\n",
    "# results = model.train(\n",
    "#     data=\"data.yaml\", \n",
    "#     epochs=100, \n",
    "#     imgsz=640, \n",
    "#     device=[0], \n",
    "#     workers=16,\n",
    "#     batch=64\n",
    "# )\n",
    "\n",
    "# Step 2: Load a Model from the Last Saved Checkpoint\n",
    "model = YOLO(\"runs/detect/train/weights/best.pt\")  # Path to your trained model's weights\n",
    "\n",
    "# Resume Training from a Checkpoint\n",
    "results = model.train(\n",
    "    data=\"data.yaml\", \n",
    "    epochs=100, \n",
    "    imgsz=640,\n",
    "    device=[0], \n",
    "    resume=True, \n",
    "    workers=16, \n",
    "    batch=64\n",
    ")\n",
    "\n",
    "# Step 3: Make Predictions\n",
    "prediction_results = model(\"/content/cropped_image_441_416.jpg\")  # Replace with your image path\n",
    "\n",
    "# Optional: Display the image with bounding boxes in Colab\n",
    "# cv2_imshow(prediction_results[0].plot())  # Uncomment to visualize predictions\n"
   ]
  },
  {
   "cell_type": "code",
   "execution_count": null,
   "metadata": {},
   "outputs": [],
   "source": []
  },
  {
   "cell_type": "code",
   "execution_count": null,
   "metadata": {},
   "outputs": [],
   "source": []
  }
 ],
 "metadata": {
  "kernelspec": {
   "display_name": "work",
   "language": "python",
   "name": "work"
  },
  "language_info": {
   "codemirror_mode": {
    "name": "ipython",
    "version": 3
   },
   "file_extension": ".py",
   "mimetype": "text/x-python",
   "name": "python",
   "nbconvert_exporter": "python",
   "pygments_lexer": "ipython3",
   "version": "3.8.13"
  }
 },
 "nbformat": 4,
 "nbformat_minor": 2
}
